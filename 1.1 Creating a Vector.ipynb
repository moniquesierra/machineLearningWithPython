{
 "cells": [
  {
   "cell_type": "markdown",
   "id": "abad64db",
   "metadata": {},
   "source": [
    "# Reviewing with \"Machine Learning w Python Cookbook\""
   ]
  },
  {
   "cell_type": "code",
   "execution_count": 1,
   "id": "229dda6c",
   "metadata": {},
   "outputs": [],
   "source": [
    "# problem: you need to create a vector\n",
    "# solution: use numpy to create a 1D array"
   ]
  },
  {
   "cell_type": "code",
   "execution_count": 2,
   "id": "cc5622a9",
   "metadata": {},
   "outputs": [],
   "source": [
    "# 1.1 creating a vector\n",
    "\n",
    "import numpy as np\n",
    "\n",
    "# vector as a row\n",
    "\n",
    "vector_row = np.array([1,2,3])\n",
    "\n",
    "# vector as a column\n",
    "\n",
    "vector_column = np.array([[1],\n",
    "                          [2],\n",
    "                          [3]])"
   ]
  },
  {
   "cell_type": "code",
   "execution_count": 3,
   "id": "561ac08a",
   "metadata": {},
   "outputs": [],
   "source": [
    "# 1.2 creating a matrix\n",
    "\n",
    "matrix = np.array([[1, 2],\n",
    "                   [1, 2],\n",
    "                   [1, 2]])\n",
    "\n",
    "# there is also a dedicated matrix structure, np.matrix, but it is not\n",
    "# recommended bc arrays are the standard and np returns arrayy (generally)"
   ]
  },
  {
   "cell_type": "code",
   "execution_count": 4,
   "id": "c04774aa",
   "metadata": {},
   "outputs": [],
   "source": [
    "# 1.3 creating a sparse matrix: these only store non-zero values \n",
    "\n",
    "# libraries\n",
    "\n",
    "import numpy as np\n",
    "from scipy import sparse\n",
    "\n",
    "# create matrix\n",
    "\n",
    "matrix = np.array([[0,0],\n",
    "                   [0,1],\n",
    "                   [3,0]])\n",
    "\n",
    "# create a compressed sparse row (CSR) matrix\n",
    "\n",
    "matrix_sparse = sparse.csr_matrix(matrix)\n"
   ]
  },
  {
   "cell_type": "code",
   "execution_count": 13,
   "id": "0e07274b",
   "metadata": {},
   "outputs": [
    {
     "data": {
      "text/plain": [
       "3"
      ]
     },
     "execution_count": 13,
     "metadata": {},
     "output_type": "execute_result"
    }
   ],
   "source": [
    "# 1.4 selecting elements\n",
    "\n",
    "# create row vector and matrix\n",
    "\n",
    "vector = np.array([1, 2, 3, 4, 5, 6])\n",
    "\n",
    "matrix = np.array([[1, 2, 3],\n",
    "                   [4, 5, 6],\n",
    "                   [7, 8, 9]])\n",
    "\n",
    "# select the third element from vector\n",
    "\n",
    "vector[2]"
   ]
  },
  {
   "cell_type": "code",
   "execution_count": 6,
   "id": "7667511b",
   "metadata": {},
   "outputs": [
    {
     "data": {
      "text/plain": [
       "11"
      ]
     },
     "execution_count": 6,
     "metadata": {},
     "output_type": "execute_result"
    }
   ],
   "source": [
    "# now matrix \n",
    "\n",
    "matrix[0,2]\n"
   ]
  },
  {
   "cell_type": "code",
   "execution_count": 7,
   "id": "3d26813f",
   "metadata": {},
   "outputs": [
    {
     "data": {
      "text/plain": [
       "array([1, 2, 3, 4, 5, 6])"
      ]
     },
     "execution_count": 7,
     "metadata": {},
     "output_type": "execute_result"
    }
   ],
   "source": [
    "# select all the elements in the vector\n",
    "\n",
    "vector[:]"
   ]
  },
  {
   "cell_type": "code",
   "execution_count": 9,
   "id": "d66fc6a1",
   "metadata": {},
   "outputs": [
    {
     "data": {
      "text/plain": [
       "array([1, 2, 3])"
      ]
     },
     "execution_count": 9,
     "metadata": {},
     "output_type": "execute_result"
    }
   ],
   "source": [
    "# select everything, up to/including the third element\n",
    "\n",
    "vector[:3] \n",
    "\n",
    "# does not include the number we end on"
   ]
  },
  {
   "cell_type": "code",
   "execution_count": 10,
   "id": "fec836c8",
   "metadata": {},
   "outputs": [
    {
     "data": {
      "text/plain": [
       "array([4, 5, 6])"
      ]
     },
     "execution_count": 10,
     "metadata": {},
     "output_type": "execute_result"
    }
   ],
   "source": [
    "# select everything after the third element\n",
    "\n",
    "vector[3:]"
   ]
  },
  {
   "cell_type": "code",
   "execution_count": 11,
   "id": "5cff4b13",
   "metadata": {},
   "outputs": [
    {
     "data": {
      "text/plain": [
       "6"
      ]
     },
     "execution_count": 11,
     "metadata": {},
     "output_type": "execute_result"
    }
   ],
   "source": [
    "# select the last element\n",
    "\n",
    "vector[-1]"
   ]
  },
  {
   "cell_type": "code",
   "execution_count": 25,
   "id": "bfb581f6",
   "metadata": {},
   "outputs": [
    {
     "data": {
      "text/plain": [
       "array([[2],\n",
       "       [5],\n",
       "       [8]])"
      ]
     },
     "execution_count": 25,
     "metadata": {},
     "output_type": "execute_result"
    }
   ],
   "source": [
    "# select the first two rows and all columns of the matrix\n",
    "\n",
    "matrix[:2,:] # the first number is ROWS, then COLUMNS (L-R, U-D)\n",
    "\n",
    "# select the second column of rows \n",
    "\n",
    "matrix[:,1:2] \n",
    "\n",
    "# we use the : to keep it in matrix format ? otherwise we could just put 1\n",
    "# we start at 1 bc we go (0,1) which makes it second, and the 2 is non-inclusive"
   ]
  },
  {
   "cell_type": "code",
   "execution_count": 26,
   "id": "0fde6bca",
   "metadata": {},
   "outputs": [
    {
     "data": {
      "text/plain": [
       "(3, 3)"
      ]
     },
     "execution_count": 26,
     "metadata": {},
     "output_type": "execute_result"
    }
   ],
   "source": [
    "# 1.5 describing matrix - finding shape, size, dimensions of matrix\n",
    "\n",
    "# shape\n",
    "matrix.shape"
   ]
  },
  {
   "cell_type": "code",
   "execution_count": 27,
   "id": "846d1d1f",
   "metadata": {},
   "outputs": [
    {
     "data": {
      "text/plain": [
       "9"
      ]
     },
     "execution_count": 27,
     "metadata": {},
     "output_type": "execute_result"
    }
   ],
   "source": [
    "# view number of elements\n",
    "\n",
    "matrix.size"
   ]
  },
  {
   "cell_type": "code",
   "execution_count": 28,
   "id": "e0918242",
   "metadata": {},
   "outputs": [
    {
     "data": {
      "text/plain": [
       "2"
      ]
     },
     "execution_count": 28,
     "metadata": {},
     "output_type": "execute_result"
    }
   ],
   "source": [
    "# view number of dimensions\n",
    "\n",
    "matrix.ndim"
   ]
  },
  {
   "cell_type": "code",
   "execution_count": 30,
   "id": "73257460",
   "metadata": {},
   "outputs": [
    {
     "data": {
      "text/plain": [
       "array([[101, 102, 103],\n",
       "       [104, 105, 106],\n",
       "       [107, 108, 109]])"
      ]
     },
     "execution_count": 30,
     "metadata": {},
     "output_type": "execute_result"
    }
   ],
   "source": [
    "# applying operations to elements \n",
    "\n",
    "#create a function that adds 100 to everything\n",
    "\n",
    "add_100 = lambda i: i + 100\n",
    "\n",
    "# create a vectorized function\n",
    "\n",
    "vectorized_add_100 = np.vectorize(add_100)\n",
    "\n",
    "# apply new function to our old matrix!\n",
    "\n",
    "vectorized_add_100(matrix)\n",
    "\n",
    "# vectorize is essentially a for loop over the elements and doesnt increase preformance (?)"
   ]
  },
  {
   "cell_type": "code",
   "execution_count": 31,
   "id": "bedd89ed",
   "metadata": {},
   "outputs": [
    {
     "data": {
      "text/plain": [
       "array([[101, 102, 103],\n",
       "       [104, 105, 106],\n",
       "       [107, 108, 109]])"
      ]
     },
     "execution_count": 31,
     "metadata": {},
     "output_type": "execute_result"
    }
   ],
   "source": [
    "# bruh. NumPy allows us to preform operations between arrays (broadcasting) even if their\n",
    "# dimensions are not the same\n",
    "\n",
    "matrix +100"
   ]
  },
  {
   "cell_type": "code",
   "execution_count": 35,
   "id": "64573409",
   "metadata": {},
   "outputs": [
    {
     "data": {
      "text/plain": [
       "array([7, 8, 9])"
      ]
     },
     "execution_count": 35,
     "metadata": {},
     "output_type": "execute_result"
    }
   ],
   "source": [
    "# 1.7 finding max and mins of an array value\n",
    "\n",
    "# max in each column\n",
    "\n",
    "matrix = np.array([[1, 2, 3],\n",
    "                   [4, 5, 6],\n",
    "                   [7, 8, 9]])\n",
    "\n",
    "np.max(matrix, axis =0) # with axis at 0 we are looking at the COLUMNS\n"
   ]
  },
  {
   "cell_type": "code",
   "execution_count": 36,
   "id": "3c57c3b9",
   "metadata": {},
   "outputs": [
    {
     "data": {
      "text/plain": [
       "array([3, 6, 9])"
      ]
     },
     "execution_count": 36,
     "metadata": {},
     "output_type": "execute_result"
    }
   ],
   "source": [
    "np.max(matrix, axis =1) # with axis at 0 we are looking at the ROWS\n",
    "\n",
    "# we can say the ZERO falls straight down to give us column max, and the ONE falls across to\n",
    "# give us the max of each row"
   ]
  },
  {
   "cell_type": "code",
   "execution_count": 37,
   "id": "43333e3e",
   "metadata": {},
   "outputs": [
    {
     "data": {
      "text/plain": [
       "5.0"
      ]
     },
     "execution_count": 37,
     "metadata": {},
     "output_type": "execute_result"
    }
   ],
   "source": [
    "# 1.8 avg, variance, and standard deviation\n",
    "\n",
    "# mean\n",
    "np.mean(matrix)"
   ]
  },
  {
   "cell_type": "code",
   "execution_count": 38,
   "id": "8f8ba570",
   "metadata": {},
   "outputs": [
    {
     "data": {
      "text/plain": [
       "6.666666666666667"
      ]
     },
     "execution_count": 38,
     "metadata": {},
     "output_type": "execute_result"
    }
   ],
   "source": [
    "#variance\n",
    "\n",
    "np.var(matrix)"
   ]
  },
  {
   "cell_type": "code",
   "execution_count": 39,
   "id": "8c42eaff",
   "metadata": {},
   "outputs": [
    {
     "data": {
      "text/plain": [
       "2.581988897471611"
      ]
     },
     "execution_count": 39,
     "metadata": {},
     "output_type": "execute_result"
    }
   ],
   "source": [
    "# st. deviation\n",
    "\n",
    "np.std(matrix)"
   ]
  },
  {
   "cell_type": "code",
   "execution_count": 40,
   "id": "a5917214",
   "metadata": {},
   "outputs": [
    {
     "data": {
      "text/plain": [
       "array([4., 5., 6.])"
      ]
     },
     "execution_count": 40,
     "metadata": {},
     "output_type": "execute_result"
    }
   ],
   "source": [
    "# get the same thing from the column!\n",
    "\n",
    "np.mean(matrix, axis = 0)"
   ]
  },
  {
   "cell_type": "code",
   "execution_count": null,
   "id": "6fc151f0",
   "metadata": {},
   "outputs": [],
   "source": [
    "# reshape matrix PG.9\n"
   ]
  },
  {
   "cell_type": "code",
   "execution_count": null,
   "id": "aef974ce",
   "metadata": {},
   "outputs": [],
   "source": []
  }
 ],
 "metadata": {
  "kernelspec": {
   "display_name": "Python 3 (ipykernel)",
   "language": "python",
   "name": "python3"
  },
  "language_info": {
   "codemirror_mode": {
    "name": "ipython",
    "version": 3
   },
   "file_extension": ".py",
   "mimetype": "text/x-python",
   "name": "python",
   "nbconvert_exporter": "python",
   "pygments_lexer": "ipython3",
   "version": "3.9.7"
  }
 },
 "nbformat": 4,
 "nbformat_minor": 5
}
